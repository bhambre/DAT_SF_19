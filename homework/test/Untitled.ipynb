{
 "cells": [
  {
   "cell_type": "code",
   "execution_count": 2,
   "metadata": {
    "collapsed": false
   },
   "outputs": [
    {
     "name": "stdout",
     "output_type": "stream",
     "text": [
      "---- Summary Stats ----\n",
      "Number of passengers in training set = 891\n",
      "Number of survivors in training set = 342.0\n",
      "Survival rate in training set = 0.383838383838\n",
      "---- Gender-Based Stats ----\n",
      "number of women onboard = 314\n",
      "number of men onboard = 577\n",
      "number of unknown gender onboard = 0\n",
      "number of women survivors = 233.0\n",
      "number of men survivors = 109.0\n",
      "Proportion of women who survived = 0.742038216561\n",
      "Proportion of men who survived = 0.188908145581\n",
      "Average (mean) age for passengers with age listed = 29.6991176471\n",
      "Done saving modified data as modified_train.csv\n"
     ]
    },
    {
     "name": "stderr",
     "output_type": "stream",
     "text": [
      "/Users/bhambre/anaconda/lib/python2.7/site-packages/ipykernel/__main__.py:64: DeprecationWarning: numpy boolean negative, the `-` operator, is deprecated, use the `~` operator or the logical_not function instead.\n"
     ]
    }
   ],
   "source": [
    "import numpy as np\n",
    "import csv as csv\n",
    "\n",
    "data = []\n",
    "modified_data = []\n",
    "\n",
    "#Import our data\n",
    "#The 'r' parameter is for read and the b parameter is for 'binary'\n",
    "with open('titanic.csv', 'rb') as csv_file_object:\n",
    "    reader = csv.reader(csv_file_object)\n",
    "    header = csv_file_object.next()\n",
    "    for row in reader:\n",
    "        data.append(row)\n",
    "\n",
    "data = np.array(data)\n",
    "\n",
    "#Calculate and print some summary stats\n",
    "number_passengers = np.size(data[0::,0].astype(np.float))\n",
    "number_survived = np.sum(data[0::,1].astype(np.float))\n",
    "proportion_survivors = number_survived / number_passengers\n",
    "\n",
    "print \"---- Summary Stats ----\"\n",
    "print \"Number of passengers in training set = %s\" % number_passengers\n",
    "print \"Number of survivors in training set = %s\" % number_survived\n",
    "print \"Survival rate in training set = %s\" % proportion_survivors\n",
    "\n",
    "#Calculate and print some gender-based stats\n",
    "women_only_stats = data[0::,4] == \"female\"\n",
    "men_only_stats = data[0::,4] == \"male\"\n",
    "unknown_gender_stats = data[0::,4] == \"\"\n",
    "\n",
    "women_onboard_idx = data[women_only_stats,0].astype(np.float)\n",
    "men_onboard_idx = data[men_only_stats,0].astype(np.float)\n",
    "\n",
    "number_women_onboard = np.size(data[women_only_stats,0].astype(np.float))\n",
    "number_men_onboard = np.size(data[men_only_stats,0].astype(np.float))\n",
    "number_unknown_gender_onboard = np.size(data[unknown_gender_stats,0].astype(np.float))\n",
    "\n",
    "print \"---- Gender-Based Stats ----\"\n",
    "print \"number of women onboard = %s\" % number_women_onboard\n",
    "print \"number of men onboard = %s\" % number_men_onboard\n",
    "print \"number of unknown gender onboard = %s\" % number_unknown_gender_onboard\n",
    "\n",
    "number_women_survivors = np.sum(data[women_only_stats,1].astype(np.float))\n",
    "number_men_survivors = np.sum(data[men_only_stats,1].astype(np.float))\n",
    "\n",
    "print \"number of women survivors = %s\" % number_women_survivors\n",
    "print \"number of men survivors = %s\" % number_men_survivors\n",
    "\n",
    "proportion_women_survived = number_women_survivors / number_women_onboard\n",
    "proportion_men_survived = number_men_survivors / number_men_onboard\n",
    "\n",
    "print \"Proportion of women who survived = %s\" % proportion_women_survived\n",
    "print \"Proportion of men who survived = %s\" % proportion_men_survived\n",
    "\n",
    "#---- Age Imputation ----\n",
    "#Determine which passengers have no age listed in the input file.\n",
    "#  Then, calculate the average age of the passengers with an age listed.\n",
    "#  Note that passengers missing age should NOT be included in the divisor\n",
    "#  of the average age calculation.\n",
    "\n",
    "passengers_missing_age = data[0::,5] == \"\"\n",
    "count_missing_age = np.size(data[passengers_missing_age,0].astype(np.float))\n",
    "sum_passenger_age = np.sum(data[- passengers_missing_age,5].astype(np.float))\n",
    "average_age = sum_passenger_age / (number_passengers - count_missing_age)\n",
    "\n",
    "print \"Average (mean) age for passengers with age listed = %s\" % average_age\n",
    "\n",
    "#For passengers with no age listed, make them the average age of the rest\n",
    "#   of the passengers.\n",
    "data[passengers_missing_age,5] = average_age\n",
    "\n",
    "#Remove some columns that we do not believe will be useful in our modeling\n",
    "#   and then save a modified version of the file. To select different\n",
    "#   columns for your model, simply change the column indices in the\n",
    "#   next line.\n",
    "indices_of_columns_we_want = [0, 1, 2, 4, 5, 6, 7, 9, 11]\n",
    "modified_data = data[0::,indices_of_columns_we_want]\n",
    "\n",
    "#use csv library to save new data out to new csv file\n",
    "#  Subtle note: Adding the header row back in to the output file\n",
    "#    is surprisingly challenging...\n",
    "\n",
    "output_file_name = \"modified_train.csv\"\n",
    "\n",
    "with open(output_file_name, 'wb') as csv_writer_object:\n",
    "    writer = csv.writer(csv_writer_object)\n",
    "    #writer.writerow([header])\n",
    "    writer.writerows(modified_data)\n",
    "    print \"Done saving modified data as %s\" % output_file_name"
   ]
  },
  {
   "cell_type": "code",
   "execution_count": null,
   "metadata": {
    "collapsed": true
   },
   "outputs": [],
   "source": []
  }
 ],
 "metadata": {
  "kernelspec": {
   "display_name": "Python 2",
   "language": "python",
   "name": "python2"
  },
  "language_info": {
   "codemirror_mode": {
    "name": "ipython",
    "version": 2
   },
   "file_extension": ".py",
   "mimetype": "text/x-python",
   "name": "python",
   "nbconvert_exporter": "python",
   "pygments_lexer": "ipython2",
   "version": "2.7.10"
  }
 },
 "nbformat": 4,
 "nbformat_minor": 0
}

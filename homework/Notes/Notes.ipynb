{
 "cells": [
  {
   "cell_type": "code",
   "execution_count": null,
   "metadata": {
    "collapsed": false
   },
   "outputs": [],
   "source": [
    "#Model Evaluation\n",
    "myknn = KNeighborsClassifier(n).fit(X_train,y_train) #fits KNN model,n nearest neighbors"
   ]
  },
  {
   "cell_type": "code",
   "execution_count": null,
   "metadata": {
    "collapsed": true
   },
   "outputs": [],
   "source": []
  },
  {
   "cell_type": "code",
   "execution_count": null,
   "metadata": {
    "collapsed": false
   },
   "outputs": [],
   "source": [
    "predictions = myknn.predict(X_test) #model is applied to test data"
   ]
  },
  {
   "cell_type": "code",
   "execution_count": null,
   "metadata": {
    "collapsed": false
   },
   "outputs": [],
   "source": [
    "myknn.score(X_test, y_test) #test data is scored"
   ]
  },
  {
   "cell_type": "code",
   "execution_count": null,
   "metadata": {
    "collapsed": false
   },
   "outputs": [],
   "source": [
    "from sklearn import metrics\n",
    "\n",
    "print metrics.classification_report([sk_iris['target_names'][label] for label in y_test], \n",
    "                                    [sk_iris['target_names'][label] for label in myknn.predict(X_test)])"
   ]
  },
  {
   "cell_type": "code",
   "execution_count": null,
   "metadata": {
    "collapsed": true
   },
   "outputs": [],
   "source": [
    "#Ordinary Least Squares\n",
    "results = sm.OLS(y, x).fit() #fits the data\n",
    "slope = results.params[0] #params gives betas\n",
    "r2 = results.rsquared #r2 value(coefficient of determination) regression score function. \n",
    "#Best possible score is 1.0 and it can be negative (because the model can be arbitrarily worse). \n",
    "#A constant model that always predicts the expected value of y, disregarding the input features, \n",
    "#would get a R^2 score of 0.0.\n",
    "print slope\n",
    "print r2"
   ]
  },
  {
   "cell_type": "code",
   "execution_count": null,
   "metadata": {
    "collapsed": true
   },
   "outputs": [],
   "source": [
    "X = sm.add_constant(x, prepend=True) #adds constant to find y intercept"
   ]
  },
  {
   "cell_type": "code",
   "execution_count": null,
   "metadata": {
    "collapsed": true
   },
   "outputs": [],
   "source": [
    "results = sm.OLS(y, X).fit()\n",
    "intercept, slope = results.params #fitting an intercept and getting slope, shifts the line\n",
    "\n",
    "r2 = results.rsquared #deviations of predicted from actual empirical values of data, A small RSS indicates a tight fit of the model to the data.\n",
    "\n",
    "print intercept,slope\n",
    "print r2"
   ]
  },
  {
   "cell_type": "code",
   "execution_count": null,
   "metadata": {
    "collapsed": true
   },
   "outputs": [],
   "source": [
    "#Function of Multiple variables\n",
    "x = data_n[['sqft', 'bdrms','age']].values\n",
    "y = data_n['price'].values\n",
    "\n",
    "X = sm.add_constant(x, prepend=True)\n",
    "results = sm.OLS(y, X).fit()"
   ]
  },
  {
   "cell_type": "code",
   "execution_count": null,
   "metadata": {
    "collapsed": true
   },
   "outputs": [],
   "source": [
    "#stats Formula API\n",
    "import statsmodels.formula.api as smf\n",
    "results = smf.ols('price ~ sqft + bdrms', data=data).fit()\n",
    "results.summary()"
   ]
  },
  {
   "cell_type": "code",
   "execution_count": null,
   "metadata": {
    "collapsed": true
   },
   "outputs": [],
   "source": [
    "from sklearn.cross_validation import train_test_split\n",
    "X_train, X_test, y_train, y_test = train_test_split( X, y, test_size=0.20, random_state=0) #20% test size 80% data size"
   ]
  },
  {
   "cell_type": "code",
   "execution_count": null,
   "metadata": {
    "collapsed": true
   },
   "outputs": [],
   "source": [
    "from sklearn.linear_model import LogisticRegression\n",
    "\n",
    "features = spam_data.drop('is_spam',axis=1)\n",
    "target = spam_data.is_spam\n",
    "\n",
    "model_lr = LogisticRegression(C=1) #regularzation of 1"
   ]
  },
  {
   "cell_type": "code",
   "execution_count": null,
   "metadata": {
    "collapsed": true
   },
   "outputs": [],
   "source": [
    "cross_val_score(model_lr,features,target,cv=10).mean() #cv 5-10, cv is number of folds of data to test"
   ]
  },
  {
   "cell_type": "code",
   "execution_count": null,
   "metadata": {
    "collapsed": true
   },
   "outputs": [],
   "source": [
    "#Non Linear Function\n",
    "#y=1/2x+1/2sinx−1/50(x−5)2 + 5\n",
    "# start with some fake data\n",
    "nsample = 50\n",
    "sig = 0.5\n",
    "# generate linear space\n",
    "x = np.linspace(0, 20, nsample) #generate 50 numbers,range 0-20\n",
    "# invent function\n",
    "X = np.c_[x, np.sin(x), (x - 5)**2, np.ones(nsample)] #Return a new array of given shape and type, filled with ones.\n",
    "# invent coefficients\n",
    "beta = [1.5, 2.5, -0.2, 15.]\n",
    "# generate |\n",
    "y_true = np.dot(X, beta) #np.dot = multiple arrays\n",
    "# add noise\n",
    "y = y_true + sig * np.random.normal(size=nsample)"
   ]
  },
  {
   "cell_type": "code",
   "execution_count": null,
   "metadata": {
    "collapsed": true
   },
   "outputs": [],
   "source": [
    "X = np.c_[x, np.sin(x), (x - 5)**2, np.ones(nsample)]\n",
    "X.shape\n",
    "x.shape\n",
    "y_true.shape"
   ]
  },
  {
   "cell_type": "code",
   "execution_count": null,
   "metadata": {
    "collapsed": true
   },
   "outputs": [],
   "source": [
    "res = sm.OLS(y, X).fit()\n",
    "res.summary()"
   ]
  },
  {
   "cell_type": "code",
   "execution_count": null,
   "metadata": {
    "collapsed": true
   },
   "outputs": [],
   "source": [
    "print res.params #betas or coef"
   ]
  },
  {
   "cell_type": "code",
   "execution_count": null,
   "metadata": {
    "collapsed": true
   },
   "outputs": [],
   "source": [
    "print res.bse #error"
   ]
  },
  {
   "cell_type": "code",
   "execution_count": null,
   "metadata": {
    "collapsed": true
   },
   "outputs": [],
   "source": [
    "#dummy variables for categorical dataj\n",
    ">>> from sklearn.preprocessing import OneHotEncoder\n",
    ">>> enc = OneHotEncoder()\n",
    ">>> enc.fit([[0, 0, 3], [1, 1, 0], [0, 2, 1], [1, 0, 2]])  \n",
    "OneHotEncoder(categorical_features='all', dtype=<... 'float'>,\n",
    "       handle_unknown='error', n_values='auto', sparse=True)\n",
    ">>> enc.n_values_\n",
    "array([2, 3, 4])\n",
    ">>> enc.feature_indices_\n",
    "array([0, 2, 5, 9])\n",
    ">>> enc.transform([[0, 1, 1]]).toarray()\n",
    "array([[ 1.,  0.,  0.,  1.,  0.,  0.,  1.,  0.,  0.]])"
   ]
  },
  {
   "cell_type": "code",
   "execution_count": null,
   "metadata": {
    "collapsed": true
   },
   "outputs": [],
   "source": [
    "#sparse\n",
    "[010] = [0,1]\n",
    "[100] = [1,0]\n",
    "[001] = [2,2]"
   ]
  },
  {
   "cell_type": "code",
   "execution_count": 2,
   "metadata": {
    "collapsed": false
   },
   "outputs": [
    {
     "name": "stdout",
     "output_type": "stream",
     "text": [
      "JSON: [{\"a\": \"A\", \"c\": 3.0, \"b\": [2, 4]}]\n"
     ]
    }
   ],
   "source": [
    "#\n",
    "import json\n",
    "py_object = [ { 'a':'A', 'b':(2, 4), 'c':3.0 } ] \n",
    "json_string = json.dumps(py_object) \n",
    "print 'JSON:', json_string"
   ]
  },
  {
   "cell_type": "code",
   "execution_count": 4,
   "metadata": {
    "collapsed": false
   },
   "outputs": [
    {
     "name": "stdout",
     "output_type": "stream",
     "text": [
      "[{u'a': u'A', u'c': 3.0, u'b': [2, 4]}]\n"
     ]
    }
   ],
   "source": [
    "decoded_py_object = json.loads(json_string)\n",
    "print decoded_py_object"
   ]
  },
  {
   "cell_type": "code",
   "execution_count": null,
   "metadata": {
    "collapsed": true
   },
   "outputs": [],
   "source": [
    "#find null values\n",
    "df.isnull().values.any()"
   ]
  }
 ],
 "metadata": {
  "kernelspec": {
   "display_name": "Python 2",
   "language": "python",
   "name": "python2"
  },
  "language_info": {
   "codemirror_mode": {
    "name": "ipython",
    "version": 2
   },
   "file_extension": ".py",
   "mimetype": "text/x-python",
   "name": "python",
   "nbconvert_exporter": "python",
   "pygments_lexer": "ipython2",
   "version": "2.7.11"
  }
 },
 "nbformat": 4,
 "nbformat_minor": 0
}

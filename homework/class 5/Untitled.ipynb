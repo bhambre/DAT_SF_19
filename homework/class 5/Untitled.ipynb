{
 "cells": [
  {
   "cell_type": "code",
   "execution_count": null,
   "metadata": {
    "collapsed": false
   },
   "outputs": [],
   "source": [
    "#Model Evaluation\n",
    "myknn = KNeighborsClassifier(n).fit(X_train,y_train) #fits KNN model,n nearest neighbors"
   ]
  },
  {
   "cell_type": "code",
   "execution_count": null,
   "metadata": {
    "collapsed": false
   },
   "outputs": [],
   "source": [
    "predictions = myknn.predict(X_test) #model is applied to test data"
   ]
  },
  {
   "cell_type": "code",
   "execution_count": null,
   "metadata": {
    "collapsed": false
   },
   "outputs": [],
   "source": [
    "myknn.score(X_test, y_test) #test data is scored"
   ]
  },
  {
   "cell_type": "code",
   "execution_count": null,
   "metadata": {
    "collapsed": false
   },
   "outputs": [],
   "source": [
    "from sklearn import metrics\n",
    "\n",
    "print metrics.classification_report([sk_iris['target_names'][label] for label in y_test], \n",
    "                                    [sk_iris['target_names'][label] for label in myknn.predict(X_test)])"
   ]
  },
  {
   "cell_type": "code",
   "execution_count": null,
   "metadata": {
    "collapsed": true
   },
   "outputs": [],
   "source": [
    "#Ordinary Least Squares\n",
    "results = sm.OLS(y, x).fit() #fits the data\n",
    "slope = results.params[0] #params gives betas\n",
    "r2 = results.rsquared #r2 value(coefficient of determination) regression score function. \n",
    "#Best possible score is 1.0 and it can be negative (because the model can be arbitrarily worse). \n",
    "#A constant model that always predicts the expected value of y, disregarding the input features, \n",
    "#would get a R^2 score of 0.0.\n",
    "print slope\n",
    "print r2"
   ]
  },
  {
   "cell_type": "code",
   "execution_count": null,
   "metadata": {
    "collapsed": true
   },
   "outputs": [],
   "source": [
    "X = sm.add_constant(x, prepend=True) #adds constant to find y intercept"
   ]
  },
  {
   "cell_type": "code",
   "execution_count": null,
   "metadata": {
    "collapsed": true
   },
   "outputs": [],
   "source": [
    "results = sm.OLS(y, X).fit()\n",
    "intercept, slope = results.params #fitting an intercept and getting slope, shifts the line\n",
    "\n",
    "r2 = results.rsquared\n",
    "\n",
    "print intercept,slope\n",
    "print r2"
   ]
  },
  {
   "cell_type": "code",
   "execution_count": null,
   "metadata": {
    "collapsed": true
   },
   "outputs": [],
   "source": [
    "#Function of Multiple variables\n",
    "x = data_n[['sqft', 'bdrms','age']].values\n",
    "y = data_n['price'].values\n",
    "\n",
    "X = sm.add_constant(x, prepend=True)\n",
    "results = sm.OLS(y, X).fit()"
   ]
  },
  {
   "cell_type": "code",
   "execution_count": null,
   "metadata": {
    "collapsed": true
   },
   "outputs": [],
   "source": [
    "#stats Formula API\n",
    "import statsmodels.formula.api as smf\n",
    "results = smf.ols('price ~ sqft + bdrms', data=data).fit()\n",
    "results.summary()"
   ]
  },
  {
   "cell_type": "code",
   "execution_count": null,
   "metadata": {
    "collapsed": true
   },
   "outputs": [],
   "source": [
    "#Non Linear Function\n",
    "#y=1/2x+1/2sinx−1/50(x−5)2 + 5\n",
    "# start with some fake data\n",
    "nsample = 50\n",
    "sig = 0.5\n",
    "# generate linear space\n",
    "x = np.linspace(0, 20, nsample) #generate 50 numbers,range 0-20\n",
    "# invent function\n",
    "X = np.c_[x, np.sin(x), (x - 5)**2, np.ones(nsample)]\n",
    "# invent coefficients\n",
    "beta = [1.5, 2.5, -0.2, 15.]\n",
    "# generate |\n",
    "y_true = np.dot(X, beta) #np.dot = multiple arrays\n",
    "# add noise\n",
    "y = y_true + sig * np.random.normal(size=nsample)"
   ]
  },
  {
   "cell_type": "code",
   "execution_count": null,
   "metadata": {
    "collapsed": true
   },
   "outputs": [],
   "source": [
    "X = np.c_[x, np.sin(x), (x - 5)**2, np.ones(nsample)]\n",
    "X.shape\n",
    "x.shape\n",
    "y_true.shape"
   ]
  },
  {
   "cell_type": "code",
   "execution_count": null,
   "metadata": {
    "collapsed": true
   },
   "outputs": [],
   "source": [
    "res = sm.OLS(y, X).fit()\n",
    "res.summary()"
   ]
  },
  {
   "cell_type": "code",
   "execution_count": null,
   "metadata": {
    "collapsed": true
   },
   "outputs": [],
   "source": [
    "print res.params #betas or coef"
   ]
  },
  {
   "cell_type": "code",
   "execution_count": null,
   "metadata": {
    "collapsed": true
   },
   "outputs": [],
   "source": [
    "print res.bse #error"
   ]
  }
 ],
 "metadata": {
  "kernelspec": {
   "display_name": "Python 2",
   "language": "python",
   "name": "python2"
  },
  "language_info": {
   "codemirror_mode": {
    "name": "ipython",
    "version": 2
   },
   "file_extension": ".py",
   "mimetype": "text/x-python",
   "name": "python",
   "nbconvert_exporter": "python",
   "pygments_lexer": "ipython2",
   "version": "2.7.11"
  }
 },
 "nbformat": 4,
 "nbformat_minor": 0
}

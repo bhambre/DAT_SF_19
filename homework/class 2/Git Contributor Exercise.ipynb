{
 "cells": [
  {
   "cell_type": "markdown",
   "metadata": {},
   "source": [
    "#Class 3 - Processing Files with Python\n",
    "###DATSF 19\n",
    "####Justin Breucop - 12/7/2015\n",
    "\n",
    "For a lot of data files in class we'll use functionality from various libraries to process data very quickly. However, for custom files, raw text, and data that is configured in a non-standard way, it is important to be able to extract data in a customized fashion. We'll go through this exercise using only libraries that come with the default python distribution. The first step will be to open the file in sublime.\n",
    "\n",
    "Let's say that we are curious about the latest release of ScikitLearn, since we are (or soon will be) frequent users. Our goal is to take the raw commits, sort our authors alphabetically and also count the number of contributions they made. Let's first look at the file. You can do this via the command line but for simplicity's sake we can use the Jupyter cell magic."
   ]
  },
  {
   "cell_type": "code",
   "execution_count": null,
   "metadata": {
    "collapsed": false
   },
   "outputs": [],
   "source": [
    "# For Max/Linux users:\n",
    "! more ../data/raw_commits.txt\n",
    "\n",
    "# For windows users:\n",
    "# ! more ..\\data\\raw_commits.txt"
   ]
  },
  {
   "cell_type": "markdown",
   "metadata": {},
   "source": [
    "We see that each commit has an Author and a date. We need to be able to read the file line by line and add to a list of authors. Remember to use `with open('<filename>') as <variable>` where `<filename>` is the full path to the file and the `<variable>` is any identifier (such as `f`).\n",
    "\n",
    "##### Lines of file -> List of Strings"
   ]
  },
  {
   "cell_type": "code",
   "execution_count": 1,
   "metadata": {
    "collapsed": false
   },
   "outputs": [
    {
     "name": "stdout",
     "output_type": "stream",
     "text": [
      "1259\n",
      "177\n"
     ]
    }
   ],
   "source": [
    "# Open the file and try printing all lines that start with author\n",
    "\n",
    "Authorlist = []\n",
    "\n",
    "with open('../data/raw_commits.txt', 'r') as cf:\n",
    "    for line in cf:\n",
    "        if 'Author'in line:\n",
    "            line = line.split(': ')[1]\n",
    "            line = line.split(' <')[0]\n",
    "            if line[0] == '=':\n",
    "                pass\n",
    "            else:\n",
    "                Authorlist.append(line)\n",
    "        else:\n",
    "            pass\n",
    "        \n",
    "        #if line[:6] == 'Author':\n",
    "            #list.append(line[8:].split(' <')[0])\n",
    "        #else:\n",
    "            #pass\n",
    "\n",
    "#print Authorlist\n",
    "print len(Authorlist)\n",
    "print len(set(Authorlist))\n",
    "\n",
    "# Make sure to append the author name to the list. You'll need to use string manipulation techniques."
   ]
  },
  {
   "cell_type": "markdown",
   "metadata": {},
   "source": [
    "Sort the authors to find the first and last authors, alphabetically. Make sure your data is clean! (No username should begin with an = sign, for example)\n",
    "\n",
    "#####List of Strings -> Sorted unique list"
   ]
  },
  {
   "cell_type": "code",
   "execution_count": 3,
   "metadata": {
    "collapsed": false
   },
   "outputs": [
    {
     "name": "stdout",
     "output_type": "stream",
     "text": [
      "Aaron Schumacher\n",
      "Óscar Nájera\n"
     ]
    }
   ],
   "source": [
    "\n",
    "uniques = list(set(Authorlist))\n",
    "uniques.sort()\n",
    "print uniques[0]\n",
    "print uniques[-1]\n"
   ]
  },
  {
   "cell_type": "markdown",
   "metadata": {},
   "source": [
    "To count out our data, we can loop over our list and construct a dictionary where the key is the commit author and the value increases whenever we match a key.\n",
    "#####List -> Dictionary"
   ]
  },
  {
   "cell_type": "code",
   "execution_count": 4,
   "metadata": {
    "collapsed": false
   },
   "outputs": [
    {
     "name": "stdout",
     "output_type": "stream",
     "text": [
      "{'Lars': 13, 'sinhrks': 2, 'Rohan Ramanath': 1, 'Gryllos Prokopis': 3, 'Steven Seguin': 4, 'Lilian Besson': 3, 'Frank C. Eckert': 1, 'Thomas Unterthiner': 26, 'Daniel Kronovet': 3, 'Matti Lyra': 2, 'Andrew Lamb': 5, 'Dougal Sutherland': 1, 'Manoj Kumar': 5, 'Fernando Carrillo': 1, 'Skipper Seabold': 2, 'Jeremy': 1, 'Sam Zhang': 1, 'David Dotson': 2, 'Jeffrey04': 1, 'Alexandre Gramfort': 60, 'Vighnesh Birodkar': 7, 'Clyde-fare': 1, 'Boyuan Deng': 3, 'scls19fr': 2, 'Peter Fischer': 1, 'Ganiev Ibraim': 5, 'zhai_pro': 2, 'Kyler Brown': 1, 'Hsuan-Tien Lin': 8, 'TomDLT': 18, 'MaryanMorel': 1, 'Tian Wang': 1, 'Stephen Hoover': 3, 'Joshua Loyal': 3, 'Jack Martin': 2, 'Cindy Sridharan': 3, 'Dougal J. Sutherland': 1, 'Allen Riddell': 1, 'Ari Rouvinen': 1, 'Zac Stewart': 1, 'John Wittenauer': 2, 'Eric Martin': 1, 'rasbt': 10, 'mhg': 25, 'Martin Ku': 2, 'Frank Zalkow': 9, 'edson duarte': 1, 'Daniel Galvez': 6, 'Jacob Schreiber': 16, 'Joel Nothman': 37, 'Donne Martin': 1, 'Alexey Grigorev': 1, 'Barmaley.exe': 4, 'martinosorb': 5, 'Christof Angermueller': 1, 'jfraj': 3, 'John Kirkham': 1, 'Danny Sullivan': 1, 'Chih-Wei Chang': 1, 'djipey': 5, 'Joseph': 1, 'Varoquaux': 1, 'Preston Parry': 1, 'Jan Hendrik Metzen': 3, 'Tim Head': 14, 'Mathieu Blondel': 11, 'Louis Tiao': 2, 'Andreas Mueller': 235, 'MarkTab marktab.net': 1, 'maheshakya': 3, 'jnothman': 19, 'Arnaud Rachez': 1, 'trevorstephens': 11, 'Steven De Gryze': 3, 'akitty': 1, 'David D Lowe': 3, 'Christophe Bourguignat': 5, 'Yury Zhauniarovich': 1, 'Wei Xue': 8, 'Chyi-Kwei Yau': 31, 'Joe Jevnik': 2, 'Graham Clenaghan': 2, 'Maxim Kolganov': 2, 'David': 1, 'santi': 1, 'Vincent Michel': 1, 'Aaron Schumacher': 1, 'Olivier Grisel': 151, 'Kashif Rasul': 1, 'Erich Schubert': 1, 'Data1010': 2, 'vstolbunov': 2, 'Anthony Erlinger': 5, 'Nicolas': 1, 'Yucheng Low': 1, 'Eric Larson': 1, 'Timothy Hopper': 1, 'Jaidev Deshpande': 1, 'Lars Buitinck': 26, 'Matt Krump': 2, 'Loic Esteve': 2, 'Immanuel Bayer': 2, 'Robert Layton': 1, 'Giorgio Patrini': 1, 'Ali Baharev': 1, 'Tom DLT': 1, 'unknown': 5, 'Omer Katz': 1, 'Masafumi Oyamada': 1, 'Jake VanderPlas': 6, 'Miroslav Batchkarov': 4, 'Buddha Prakash': 7, 'Shivan Sornarajah': 1, 'gwulfs': 2, 'Michael Patterson': 2, 'Konstantin Shmelkov': 1, 'Nikolay Mayorov': 1, 'tokoroten': 5, 'Ishank Gulati': 1, 'banilo': 1, 'Saket Choudhary': 2, 'saurabh.bansod': 1, 'Keith Goodman': 1, 'SimonPL': 2, 'pianomania': 3, 'Pauli Virtanen': 1, 'Dmitry Spikhalskiy': 1, 'Raghav R V': 35, 'Vincent': 1, 'MechCoder': 20, 'Brett Naul': 2, 'Kian Ho': 5, 'mbillinger': 4, 'CJ Carey': 4, 'Eduardo Caro': 1, 'Christopher Erick Moody': 1, 'KamalakerDadi': 1, 'Ando Saabas': 1, '\\xc3\\x93scar N\\xc3\\xa1jera': 8, 'Tiago Freitas Pereira': 1, 'Michael Heilman': 2, 'Arnaud Joly': 21, 'Jean Kossaifi': 1, 'Theodore Vasiloudis': 1, 'Adithya Ganesh': 5, 'MartinBpr': 1, 'hlin117': 5, 'Tom Dupr\\xc3\\xa9 la Tour': 1, 'Gael Varoquaux': 58, 'Sebastian Saeger': 10, 'Chi Zhang': 2, 'benjaminirving': 1, 'Lo\\xc3\\xafc Est\\xc3\\xa8ve': 14, 'sseg': 1, 'Valentin Stolbunov': 1, 'Sonny Hu': 2, 'wangz10': 2, 'Ankur Ankan': 1, 'Raghav': 1, 'JeanKossaifi': 1, 'Zichen Wang': 3, 'Peter Prettenhofer': 5, 'Phil Roth': 9, 'Jake Vanderplas': 1, 'Martin Spacek': 2, 'Anish Shah': 1, 'Jiali Mei': 1, 'Dan Blanchard': 1, 'Arthur Mensch': 4, 'Rob Zinkov': 1, 'Vinayak Mehta': 13, 'Gilles Louppe': 43, 'giorgiop': 4, 'Cory Lorenz': 2, 'Brian McFee': 1, 'Christoph Gohlke': 1, 'Jungkook Park': 1}\n"
     ]
    }
   ],
   "source": [
    "author_count = {}\n",
    "for Name in Authorlist:\n",
    "    if Name in author_count:\n",
    "        author_count[Name] = author_count[Name] + 1\n",
    "    else:\n",
    "        author_count[Name] = 1\n",
    "        \n",
    "print author_count"
   ]
  },
  {
   "cell_type": "markdown",
   "metadata": {},
   "source": [
    "Find the contributor with the highest number of commits. Useful dictionary method: `dict.get()`\n",
    "\n",
    "#####Dictionary -> Specific String"
   ]
  },
  {
   "cell_type": "code",
   "execution_count": 5,
   "metadata": {
    "collapsed": false
   },
   "outputs": [
    {
     "name": "stdout",
     "output_type": "stream",
     "text": [
      "Andreas Mueller\n",
      "235\n"
     ]
    }
   ],
   "source": [
    "most_commits = 0\n",
    "most_commits_author = ''\n",
    "for i in author_count:\n",
    "    if author_count[i] > most_commits:\n",
    "        most_commits = author_count[i]\n",
    "        most_commits_author = i\n",
    "    else:\n",
    "        pass\n",
    "print most_commits_author\n",
    "print most_commits\n"
   ]
  },
  {
   "cell_type": "markdown",
   "metadata": {},
   "source": [
    "Bonus: how do you handle a tie? Can you pull all authors with the lowest number of commits (without hardcoding the minimum)."
   ]
  },
  {
   "cell_type": "code",
   "execution_count": 6,
   "metadata": {
    "collapsed": false
   },
   "outputs": [
    {
     "name": "stdout",
     "output_type": "stream",
     "text": [
      "{'Christof Angermueller': 1, 'Nicolas': 1, 'Rohan Ramanath': 1, 'Tiago Freitas Pereira': 1, 'Jeremy': 1, 'John Kirkham': 1, 'Eric Larson': 1, 'Danny Sullivan': 1, 'Chih-Wei Chang': 1, 'Timothy Hopper': 1, 'Tian Wang': 1, 'Jaidev Deshpande': 1, 'Masafumi Oyamada': 1, 'Raghav': 1, 'MartinBpr': 1, 'Dougal Sutherland': 1, 'Alexey Grigorev': 1, 'Varoquaux': 1, 'Tom Dupr\\xc3\\xa9 la Tour': 1, 'Yucheng Low': 1, 'Preston Parry': 1, 'Ari Rouvinen': 1, 'banilo': 1, 'Jeffrey04': 1, 'Giorgio Patrini': 1, 'Valentin Stolbunov': 1, 'Vincent Michel': 1, 'Clyde-fare': 1, 'Tom DLT': 1, 'benjaminirving': 1, 'Jiali Mei': 1, 'JeanKossaifi': 1, 'Frank C. Eckert': 1, 'Peter Fischer': 1, 'Fernando Carrillo': 1, 'Kyler Brown': 1, 'Shivan Sornarajah': 1, 'Arnaud Rachez': 1, 'Ali Baharev': 1, 'Konstantin Shmelkov': 1, 'akitty': 1, 'Nikolay Mayorov': 1, 'Christopher Erick Moody': 1, 'Robert Layton': 1, 'Ankur Ankan': 1, 'Yury Zhauniarovich': 1, 'Erich Schubert': 1, 'MaryanMorel': 1, 'Ando Saabas': 1, 'Theodore Vasiloudis': 1, 'saurabh.bansod': 1, 'Keith Goodman': 1, 'Jean Kossaifi': 1, 'David': 1, 'Anish Shah': 1, 'Pauli Virtanen': 1, 'Dmitry Spikhalskiy': 1, 'Jake Vanderplas': 1, 'Dougal J. Sutherland': 1, 'Jungkook Park': 1, 'Allen Riddell': 1, 'Sam Zhang': 1, 'santi': 1, 'Aaron Schumacher': 1, 'Zac Stewart': 1, 'MarkTab marktab.net': 1, 'Eric Martin': 1, 'Dan Blanchard': 1, 'Donne Martin': 1, 'Kashif Rasul': 1, 'edson duarte': 1, 'sseg': 1, 'Eduardo Caro': 1, 'Joseph': 1, 'Christoph Gohlke': 1, 'KamalakerDadi': 1, 'Omer Katz': 1, 'Rob Zinkov': 1, 'Vincent': 1, 'Ishank Gulati': 1, 'Brian McFee': 1}\n"
     ]
    }
   ],
   "source": [
    "least_commits_list = {}\n",
    "least_commits = most_commits\n",
    "for key in author_count:\n",
    "    if author_count[key] <= least_commits:\n",
    "        if author_count[key] < least_commits:\n",
    "            least_commits = author_count[key]\n",
    "            least_commits_list = {}\n",
    "            least_commits_list[key] = author_count[key]\n",
    "        else:\n",
    "            least_commits_list[key] = author_count[key]\n",
    "    else:\n",
    "        pass\n",
    "    \n",
    "print least_commits_list\n"
   ]
  },
  {
   "cell_type": "code",
   "execution_count": null,
   "metadata": {
    "collapsed": true
   },
   "outputs": [],
   "source": []
  }
 ],
 "metadata": {
  "kernelspec": {
   "display_name": "Python 2",
   "language": "python",
   "name": "python2"
  },
  "language_info": {
   "codemirror_mode": {
    "name": "ipython",
    "version": 2
   },
   "file_extension": ".py",
   "mimetype": "text/x-python",
   "name": "python",
   "nbconvert_exporter": "python",
   "pygments_lexer": "ipython2",
   "version": "2.7.10"
  }
 },
 "nbformat": 4,
 "nbformat_minor": 0
}
